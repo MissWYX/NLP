{
 "cells": [
  {
   "cell_type": "code",
   "execution_count": 1,
   "metadata": {},
   "outputs": [],
   "source": [
    "# fastText是Facebook于2016年开源的一个词向量计算和文本分类工具.\n",
    "# 论文地址：https://arxiv.org/abs/1607.04606\n",
    "# fastText的库安装需要编译，本代码是在cpu上运行的，这个头条数据集按照8:2划分成训练集和测试集；\n",
    "# 划分完训练需要70分钟,感觉不太适合大数据集\n",
    "labels = []\n",
    "texts = []\n",
    "with open('toutiao_cat_data.txt', 'r') as fp:\n",
    "    line = fp.readline()\n",
    "    while line:\n",
    "        # 处理每一行的逻辑\n",
    "        l = line.split('_!_')\n",
    "        label = l[2]\n",
    "        text = l[3]\n",
    "        labels.append(\"__label__\"+label)\n",
    "        texts.append(text)\n",
    "        line = fp.readline()"
   ]
  },
  {
   "cell_type": "code",
   "execution_count": null,
   "metadata": {},
   "outputs": [],
   "source": [
    "import pandas as pd\n",
    "data = pd.DataFrame()\n",
    "data[\"label\"] = labels\n",
    "data[\"text\"] = texts\n",
    "data.to_csv(\"output.csv\", index=False, header=False)"
   ]
  },
  {
   "cell_type": "code",
   "execution_count": null,
   "metadata": {},
   "outputs": [],
   "source": [
    "import pandas as pd\n",
    "from sklearn.model_selection import train_test_split\n",
    "\n",
    "        \n",
    "data = pd.read_csv(\"output.csv\")\n",
    "data = data.dropna()\n",
    "# 划分数据集\n",
    "train, test_valid = train_test_split(data, test_size=0.2, random_state=42)\n",
    "\n",
    "test_valid.to_csv('text.txt', index=False)\n",
    "train.to_csv('train.txt', index=False)"
   ]
  },
  {
   "cell_type": "code",
   "execution_count": null,
   "metadata": {},
   "outputs": [],
   "source": [
    "import fasttext\n",
    "\n",
    "# 训练模型\n",
    "model = fasttext.train_supervised('train.txt')\n",
    "\n",
    "# 保存模型\n",
    "model.save_model('model.bin')"
   ]
  },
  {
   "cell_type": "code",
   "execution_count": null,
   "metadata": {},
   "outputs": [],
   "source": [
    "# 加载模型\n",
    "loaded_model = fasttext.load_model('model.bin')\n",
    "loaded_model.test(\"./text.txt\")"
   ]
  }
 ],
 "metadata": {
  "kernelspec": {
   "display_name": "base",
   "language": "python",
   "name": "python3"
  },
  "language_info": {
   "codemirror_mode": {
    "name": "ipython",
    "version": 3
   },
   "file_extension": ".py",
   "mimetype": "text/x-python",
   "name": "python",
   "nbconvert_exporter": "python",
   "pygments_lexer": "ipython3",
   "version": "0.0.0"
  }
 },
 "nbformat": 4,
 "nbformat_minor": 2
}
